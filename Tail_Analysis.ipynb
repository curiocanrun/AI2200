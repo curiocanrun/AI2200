{
 "cells": [
  {
   "cell_type": "code",
   "execution_count": 1,
   "id": "6653b9a5-871d-4bf4-9d54-95b05a1832e8",
   "metadata": {},
   "outputs": [],
   "source": [
    "import math\n",
    "import numpy as np\n",
    "import matplotlib.pyplot as plt"
   ]
  },
  {
   "cell_type": "markdown",
   "id": "d06cbd66-cdf0-444f-acab-c06eb1510c9f",
   "metadata": {},
   "source": [
    "#### Gaussian Distribution\n",
    "$$\n",
    "\\mathcal{N} (\\mu, \\sigma^2) = \\frac{1}{\\sqrt{2\\pi}\\sigma^2} {e}^{\\frac{-(x - \\mu)^2}{2\\sigma^2}}\n",
    "$$\n",
    "where $\\mu$ is the mean (center of the distribution) and $\\sigma^2$ is the variance (spread of the distribution).\n",
    "\n",
    "#### Laplace Distribution\n",
    "$$\n",
    "\\mathcal{L} (\\mu, b) = \\frac{1}{2b} e^{\\frac{-|x - \\mu|}{b}}\n",
    "$$\n",
    "where $\\mu$ is the location parameter and $b$ is the scale parameter."
   ]
  },
  {
   "cell_type": "code",
   "execution_count": 2,
   "id": "b88f33f5-7c63-47b9-a5c3-1a410b7a01f0",
   "metadata": {},
   "outputs": [
    {
     "data": {
      "image/png": "[encoded data removed]",
      "text/plain": [
       "<Figure size 640x480 with 1 Axes>"
      ]
     },
     "metadata": {},
     "output_type": "display_data"
    }
   ],
   "source": [
    "mu = 0\n",
    "sigma = 1\n",
    "b = 1\n",
    "\n",
    "x = np.linspace(-10, 10, 8000)\n",
    "gaussian_pdf = (1 / (np.sqrt(2 * np.pi)* sigma)) * np.exp(-(x - mu)**2/(2*sigma**2))\n",
    "laplace_pdf = (1 / (2 * b)) * np.exp(-np.abs(x - mu) / b)\n",
    "\n",
    "# Visualize tails\n",
    "plt.style.use('dark_background')\n",
    "plt.plot(x, gaussian_pdf, label='Gaussian (light tails)', color='cyan', linewidth=2)\n",
    "plt.plot(x, laplace_pdf, label='Laplace (heavy tails)', color='mediumpurple', linestyle='--', linewidth=2)\n",
    "plt.xticks([])\n",
    "plt.yticks([])\n",
    "plt.legend()\n",
    "plt.show()"
   ]
  },
  {
   "cell_type": "code",
   "execution_count": 3,
   "id": "65926eb9-dd42-4b93-a6a7-d4c612d44e1f",
   "metadata": {},
   "outputs": [],
   "source": [
    "# generate synthetic data X and targets y with added noise\n",
    "def curating_data(rng=None, num_samples=100, num_features=10, noise_kind=\"gaussian\"):\n",
    "    if rng is None:\n",
    "        rng = np.random.default_rng(42)\n",
    "\n",
    "    X = rng.normal(0, 1, size=(num_samples, num_features))\n",
    "\n",
    "    w_true = rng.normal(0, 1, size=num_features)\n",
    "\n",
    "    if noise_kind == \"gaussian\":\n",
    "        noise = rng.normal(0, 1, size=num_samples)\n",
    "    elif noise_kind == \"laplace\":\n",
    "        noise = rng.laplace(0, 1, size=num_samples)\n",
    "    else:\n",
    "        raise ValueError(f\"Unknown distribution of noise: {noise_kind}\")\n",
    "\n",
    "    y = X @ w_true + noise\n",
    "\n",
    "    return X, y, w_true    "
   ]
  },
  {
   "cell_type": "code",
   "execution_count": 4,
   "id": "c079dac7-2710-4a6a-972b-d82cb2ee142f",
   "metadata": {},
   "outputs": [],
   "source": [
    "def absolute_loss(y, y_pred):\n",
    "    return np.abs(y - y_pred)\n",
    "\n",
    "def bounded_loss(y, y_pred, M=5.0):\n",
    "    return np.minimum((y - y_pred)**2, M)"
   ]
  },
  {
   "cell_type": "markdown",
   "id": "9d66e1ac-4ff9-467c-827f-3ec5cd31f3df",
   "metadata": {},
   "source": [
    "- $n$ : number of samples\n",
    "- $d$ : number of features\n",
    "- $\\hat L = \\frac{1}{n} \\sum_{i=1}^n \\ell(y_i, \\hat y_i)$ : empirical mean loss  \n",
    "- $L = \\mathbb{E}[\\ell(y, \\hat y)]$ : true expected loss  (we don't know anything about this)\n",
    "- $M$ : upper bound on the loss (for Hoeffding)  i.e., $0\\leq \\ell \\leq M$\n",
    "- $\\epsilon$ : allowed deviation from true mean  \n",
    "- $\\delta$ : confidence level i.e., $P(|\\hat L - L| \\leq \\epsilon) \\geq \\delta$ \n",
    "- So, $1-\\delta$ is the probability that the empirical mean has deviated by $\\epsilon$ from true mean\n",
    "\n",
    "**Hoeffding bound (for bounded loss):**  \n",
    "$$\n",
    "P(|\\hat L - L| > \\epsilon) \\le 2 \\exp\\Big(-\\frac{2 n \\epsilon^2}{M^2}\\Big), \\quad n \\ge \\frac{M^2}{2 \\epsilon^2} \\log \\frac{2}{(1-\\delta)}\n",
    "$$\n",
    "\n",
    "**Bernstein bound (for finite variance / sub-Gaussian):**  \n",
    "$$\n",
    "P(|\\hat L - L| > \\epsilon) \\le 2 \\exp(-c n \\epsilon^2), \\quad n \\ge \\frac{1}{c \\epsilon^2} \\log \\frac{2}{(1-\\delta)}, \\quad c \\approx \\frac{1}{2 \\sigma^2}\n",
    "$$\n"
   ]
  },
  {
   "cell_type": "code",
   "execution_count": 10,
   "id": "06b52324-2a49-4036-910e-c47eba255120",
   "metadata": {},
   "outputs": [],
   "source": [
    "def experiment(n, d, loss_fns, noise_kind=\"gaussian\", M=5.0, lr=0.01, max_epochs=500, epsilon=0.1, delta=0.5):\n",
    "    \n",
    "    X, y, _ = curating_data(num_samples=n, num_features=d, noise_kind=noise_kind)\n",
    "\n",
    "    # split the data\n",
    "    n_train = int(0.8 * n)\n",
    "    X_train, X_test = X[:n_train], X[n_train:]\n",
    "    y_train, y_test = y[:n_train], y[n_train:]\n",
    "\n",
    "    # initialize weights\n",
    "    w = np.random.uniform(-1, 1, size=d)\n",
    "    \n",
    "    # training_mse_losses = []\n",
    "    \n",
    "    for epoch in range(max_epochs):\n",
    "        \n",
    "        y_pred = X_train @ w\n",
    "        \n",
    "        # mse_loss = np.mean(0.5*(y_pred - y_train)**2)\n",
    "        # training_mse_losses.append(mse_loss)\n",
    "\n",
    "        # gradient descent\n",
    "        grad = X_train.T @ (y_pred - y_train) / n_train\n",
    "        # update weights\n",
    "        w -= lr*grad\n",
    "\n",
    "    # else w via normal equation (closed-form)\n",
    "    # w = np.linalg.inv(X_train.T @ X_train) @ X_train.T @ y\n",
    "    \n",
    "    y_train_pred = X_train @ w\n",
    "    y_test_pred = X_test @ w\n",
    "    \n",
    "    results = {}\n",
    "    for fn in loss_fns:\n",
    "        train_loss = np.mean(fn(y_train, y_train_pred))\n",
    "        test_loss  = np.mean(fn(y_test, y_test_pred))\n",
    "        results[fn.__name__] = (train_loss, test_loss)\n",
    "\n",
    "    # for the variance to be calculated on training set\n",
    "    abs_loss = absolute_loss(y_train, y_train_pred)\n",
    "\n",
    "    # Hoeffding bound for bounded loss\n",
    "    n_hoeffding = math.ceil((M**2/(2*epsilon**2))* math.log(2/(1-delta)))\n",
    "    # number of samples for atleast bounded loss is not deviated by it's emirical loss {L_bounded:.2f} by {epsilon} with {delta} confidence\n",
    "    print(f\"Required n (Hoeffding): {n_hoeffding}\")\n",
    "    \n",
    "    sigma2 = np.var(abs_loss)\n",
    "    c = 1 / (2 * sigma2)   # approximate for sub-Gaussian\n",
    "    n_bernstein = math.ceil((1 / (c * epsilon**2)) * math.log(2/(1-delta)))\n",
    "    print(f\"Required n (Bernstein): {n_bernstein}\")\n",
    "    \n",
    "    return results    "
   ]
  },
  {
   "cell_type": "code",
   "execution_count": 11,
   "id": "a8d81c76-fe82-454a-89a9-7bcc12bac0ed",
   "metadata": {},
   "outputs": [],
   "source": [
    "n = 500\n",
    "d = 10"
   ]
  },
  {
   "cell_type": "code",
   "execution_count": 12,
   "id": "0e099a65-f389-48cc-b485-e7887751d90f",
   "metadata": {},
   "outputs": [],
   "source": [
    "loss_fns = [ absolute_loss, bounded_loss]"
   ]
  },
  {
   "cell_type": "code",
   "execution_count": 13,
   "id": "27a96581-6672-43e8-bc8a-b40b7e5eb5cc",
   "metadata": {},
   "outputs": [
    {
     "name": "stdout",
     "output_type": "stream",
     "text": [
      "\n",
      " ==================== Noise: gaussian ==================== \n",
      "\n",
      "Required n (Hoeffding): 1733\n",
      "Required n (Bernstein): 98\n",
      "\n",
      "\n",
      "Loss results (Train | Test):\n",
      "\n",
      "absolute_loss: 0.80, 0.79\n",
      "bounded_loss: 0.94, 0.91\n",
      "\n",
      " ==================== Noise: laplace ==================== \n",
      "\n",
      "Required n (Hoeffding): 1733\n",
      "Required n (Bernstein): 278\n",
      "\n",
      "\n",
      "Loss results (Train | Test):\n",
      "\n",
      "absolute_loss: 1.03, 0.99\n",
      "bounded_loss: 1.33, 1.29\n"
     ]
    }
   ],
   "source": [
    "for noise in [\"gaussian\", \"laplace\"]:\n",
    "    print(\"\\n\",\"=\"*20, f\"Noise: {noise}\", \"=\"*20, \"\\n\")\n",
    "    results = experiment(n, d, loss_fns, noise_kind=noise, max_epochs=500)\n",
    "    \n",
    "    print(\"\\n\\nLoss results (Train | Test):\\n\")\n",
    "    for k, v in results.items():\n",
    "        print(f\"{k}: {v[0]:.2f}, {v[1]:.2f}\")"
   ]
  },
  {
   "cell_type": "markdown",
   "id": "d693c549-a130-4121-ad4f-d77d3cdd0d4c",
   "metadata": {},
   "source": [
    "---\n",
    "### Required number of samples for bounds\n",
    "- Hoeffding: 1733 for both noises\n",
    "  - Depends only on range M, so it's the same for Gaussian and Laplace\n",
    "  - Guarantees the empirical mean loss is within $\\epsilon$ of the true mean with confidence $\\delta$\n",
    "- Bernstein: 98 (Gaussian) vs 278 (Laplace)\n",
    "  - Depends on variance of the loss\n",
    "  - Laplace has higher variance. Hence, it requires more samples to get the same confidence\n",
    "    \n",
    "#### Since Laplace noise has heavier tails, losses are lager compared to gaussian one's\n",
    "---"
   ]
  },
  {
   "cell_type": "code",
   "execution_count": null,
   "id": "36308fc3-227c-48b1-9ce0-5bb6fd0ef4bb",
   "metadata": {},
   "outputs": [],
   "source": []
  }
 ],
 "metadata": {
  "kernelspec": {
   "display_name": "Python 3 (ipykernel)",
   "language": "python",
   "name": "python3"
  },
  "language_info": {
   "codemirror_mode": {
    "name": "ipython",
    "version": 3
   },
   "file_extension": ".py",
   "mimetype": "text/x-python",
   "name": "python",
   "nbconvert_exporter": "python",
   "pygments_lexer": "ipython3",
   "version": "3.12.2"
  }
 },
 "nbformat": 4,
 "nbformat_minor": 5
}
